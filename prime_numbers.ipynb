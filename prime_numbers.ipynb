{
  "metadata": {
    "kernelspec": {
      "name": "python",
      "display_name": "Python (Pyodide)",
      "language": "python"
    },
    "language_info": {
      "codemirror_mode": {
        "name": "python",
        "version": 3
      },
      "file_extension": ".py",
      "mimetype": "text/x-python",
      "name": "python",
      "nbconvert_exporter": "python",
      "pygments_lexer": "ipython3",
      "version": "3.8"
    }
  },
  "nbformat_minor": 5,
  "nbformat": 4,
  "cells": [
    {
      "id": "791c4851-85fb-4dfd-ac91-f3595a43665b",
      "cell_type": "markdown",
      "source": "Take a positive integer n, return list of prime factors of n in increasing order. If a prime number divides n multiple times, it should appear that many times in the list.",
      "metadata": {}
    },
    {
      "id": "7082d19c-d54e-4b71-854b-16cc9014ae96",
      "cell_type": "code",
      "source": "def primefactors(n):\n    l = []\n# check whether n is even using a while loop (becaue 2 is a prime number)\n    while n % 2 == 0:\n        l.append(2) \n        n = n / 2 \n# check for odd factors using a for loop\n    for i in range(3, int(n**0.5) + 1, 2):\n        while n % i == 0: \n            l.append(i) \n            n = n / i \n    if n > 1: \n        l.append(n)\n    return l\n\nprimefactors(10)\nprimefactors(30)",
      "metadata": {
        "trusted": true
      },
      "outputs": [
        {
          "execution_count": 1,
          "output_type": "execute_result",
          "data": {
            "text/plain": "[2, 3, 5.0]"
          },
          "metadata": {}
        }
      ],
      "execution_count": 1
    },
    {
      "id": "8cdba4fd-5613-48f5-9501-80ee3ddeb71d",
      "cell_type": "markdown",
      "source": "Define a function that returns the list of prime numbers up to N in increasing order.",
      "metadata": {}
    },
    {
      "id": "e83fe4db-a7ae-4596-ba95-a1e4325fae51",
      "cell_type": "code",
      "source": "def ListPrimes(N): \n    isprime = [True for i in range(N+1)] # assume all numbers from o to N are prime\n    isprime[0] = False # mark 0 as not prime\n    isprime[1] = False # mark 1 as not prime\n    \n    p = 2 # start with the number 2\n    while p**2 < N+1: # as long as the square root of p is less than or equal to N\n        for i in range(p ** 2, N + 1, p): # for each multiple of p starting from p^2, mark as not prime\n            isprime[i] = False # mark the multiple i as not prime\n        p += 1 # p is equal to p+1\n        \n    l = [i for i in range(len(isprime)) if isprime[i] == True] # collect all numbers still marked as prime\n    return l\n\nListPrimes(30)\nListPrimes(10)",
      "metadata": {
        "trusted": true
      },
      "outputs": [
        {
          "execution_count": 7,
          "output_type": "execute_result",
          "data": {
            "text/plain": "[2, 3, 5, 7]"
          },
          "metadata": {}
        }
      ],
      "execution_count": 7
    },
    {
      "id": "58814bf6-037b-441b-a72f-cd24e05cfaf9",
      "cell_type": "markdown",
      "source": "Count the number of integers from 1 to 1012 whose only prime factors are 2 and 3. The first few such integers are 1, 2, 3, 4, 6, 8, 9, 12, 16, 18, . . . . Provide the code you use to count these numbers, and briefly explain how your code works. (Hint: If you use a for loop over the integers from 1 to 1012, your code will take a very very long time to run. It might help to think about how you could quickly count how many powers of 2 are between 1 and 1012.)\n\nidea:\n1)instead of counting all numbers from 1 to 1012, count all powers of 2 and 3 within the range of 1 to 1012\n2)the integers whose only prime factors are 2 and 3 can be written as 2^a * 3^b, where a and b are non-negative integers\n3)find the range of values for a and b such that 2^a * 3^b <= 10^12\n   for a, 2^a <= 10^12\n   for b, 3^b <= 10^12\n4)using a for loop, count the possible combinations of of 2^a * 3^b within the range 2^a * 3^b <= 10^12",
      "metadata": {}
    },
    {
      "id": "c669ba45-6e12-446f-ad9e-65426ef90c6e",
      "cell_type": "code",
      "source": "N = 10**12\n\ndef count_numbers(N):\n    count = 0\n    \n    a = 0 # starting at a = 0, find the maximum possible value for a \n    while 2 ** a <= N: # as long as 2^a is less than or equal to N\n        a = a + 1 # increment a by 1\n\n    b = 0 #starting at b = 0, find the maximum possible value for b\n    while 3 ** b <= N: # as long as 3^b is less than or equal to N\n        b = b + 1 # increment b by 1\n\n# iterate through all combinations of 2^a * 3^b <= 10^12\n    for i in range(a): # loop through all values of a from 0 to the maximum value of a\n        for j in range(b): # loop through all values of b from 0 to the maximum value of b\n            c = (2 ** i) * (3 ** j) # compute the number d = 2^a * 3^b\n            if c <= N: # if d is less than or equal to N\n                count += 1 # increment the count by 1\n                \n    return count # return the total count of valid numbers\n\nresult = count_numbers(N)\nprint(f\"Number of integers from 1 to {N} whose only prime factors are 2 and 3: {result}\")",
      "metadata": {
        "trusted": true
      },
      "outputs": [
        {
          "name": "stdout",
          "output_type": "stream",
          "text": "Number of integers from 1 to 1000000000000 whose only prime factors are 2 and 3: 534\n"
        }
      ],
      "execution_count": 14
    }
  ]
}